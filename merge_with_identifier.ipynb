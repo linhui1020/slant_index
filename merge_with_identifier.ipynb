{
 "cells": [
  {
   "cell_type": "code",
   "execution_count": 1,
   "id": "f0a66c3a",
   "metadata": {},
   "outputs": [],
   "source": [
    "import pandas as pd"
   ]
  },
  {
   "cell_type": "code",
   "execution_count": 2,
   "id": "f5a4a547",
   "metadata": {},
   "outputs": [],
   "source": [
    "df = pd.read_excel(\"input_company_data.xlsx\")"
   ]
  },
  {
   "cell_type": "code",
   "execution_count": 3,
   "id": "ab7936df",
   "metadata": {},
   "outputs": [],
   "source": [
    "df = df[~df[\"twitterprofileurl\"].isnull()]"
   ]
  },
  {
   "cell_type": "code",
   "execution_count": 4,
   "id": "f1574404",
   "metadata": {},
   "outputs": [],
   "source": [
    "#create a dictionary that link company id and company name with username\n",
    "dictionary = {}\n",
    "for index, row in df.iterrows():\n",
    "    username = row[\"twitterprofileurl\"].split(\"/\")[-1].lower()\n",
    "    dictionary[username] = (row[\"companyid\"], row[\"companyname\"])"
   ]
  },
  {
   "cell_type": "code",
   "execution_count": 5,
   "id": "854353f3",
   "metadata": {},
   "outputs": [],
   "source": [
    "df_slant_month = pd.read_csv(\"slant_index_monthly.csv\")"
   ]
  },
  {
   "cell_type": "code",
   "execution_count": 6,
   "id": "50092897",
   "metadata": {},
   "outputs": [],
   "source": [
    "#manual check add missing variable that are not in the dictionary\n",
    "dictionary[\"_omnia_partners\"] = ('59995-90', 'OMNIA Partners')"
   ]
  },
  {
   "cell_type": "code",
   "execution_count": 7,
   "id": "02dc082a",
   "metadata": {},
   "outputs": [],
   "source": [
    "companyid = []\n",
    "companyname = []\n",
    "for index, row in df_slant_month.iterrows():\n",
    "    if row[\"username\"].lower() in dictionary.keys():\n",
    "        key = row[\"username\"].lower()\n",
    "        companyid.append(dictionary[key][0])\n",
    "        companyname.append(dictionary[key][1])\n",
    "    else:\n",
    "        companyid.append(None)\n",
    "        companyname.append(None)"
   ]
  },
  {
   "cell_type": "code",
   "execution_count": 10,
   "id": "63e523f0",
   "metadata": {},
   "outputs": [],
   "source": [
    "df_slant_month[\"companyname\"] = companyname\n",
    "df_slant_month[\"companyid\"] = companyid\n",
    "df_slant_month = df_slant_month.dropna(subset = [\"companyname\", \"companyid\"])\n",
    "df_slant_month =  df_slant_month[df_slant_month.columns[1:]]\n",
    "df_slant_month.to_csv(\"monthly_slant_index_ID.csv\")"
   ]
  }
 ],
 "metadata": {
  "kernelspec": {
   "display_name": "Python 3 (ipykernel)",
   "language": "python",
   "name": "python3"
  },
  "language_info": {
   "codemirror_mode": {
    "name": "ipython",
    "version": 3
   },
   "file_extension": ".py",
   "mimetype": "text/x-python",
   "name": "python",
   "nbconvert_exporter": "python",
   "pygments_lexer": "ipython3",
   "version": "3.9.12"
  }
 },
 "nbformat": 4,
 "nbformat_minor": 5
}
